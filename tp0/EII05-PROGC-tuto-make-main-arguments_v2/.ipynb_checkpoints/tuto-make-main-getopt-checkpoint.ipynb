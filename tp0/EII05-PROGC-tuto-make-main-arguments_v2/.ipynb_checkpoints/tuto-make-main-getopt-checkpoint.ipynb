{
 "cells": [
  {
   "cell_type": "markdown",
   "id": "f5760ade-662a-4759-b5eb-7e229cf60c1a",
   "metadata": {},
   "source": [
    "# Build with gcc, Makefile and main arguments  <a name=\"top\"></a>\n",
    "\n",
    "\n",
    "*C programming - Muriel Pressigout - V2024-07-10*"
   ]
  },
  {
   "cell_type": "markdown",
   "id": "b26de4c0-ef36-4c52-8f38-00c26440fbcd",
   "metadata": {},
   "source": [
    "Ceci est un notebook, les cellules sont éditables. \n",
    "Une cellule commençant par \\$ est un texte qui correspond à une commande à tester dans le terminal. Vous pouvez copier-coller facilement les commandes demandées dans un terminal et y écrire vos résultats. C'est un sujet-feuille de réponse. "
   ]
  },
  {
   "cell_type": "markdown",
   "id": "5a65f594-f602-4a8f-b478-a18cb8b880f7",
   "metadata": {},
   "source": [
    "Pour exporter ce document en pdf : File -> Export Notebook as... -> PDF. \n",
    "\n",
    "NB : vous pouver ouvrir ce fichier dans un navigateur sous Google colab, ce qui permet de lire et écrire dans ce fichier sans installation au préalable. Cependant vous n'aurez pas l'export en pdf."
   ]
  },
  {
   "cell_type": "markdown",
   "id": "61bc6e6a-add1-47f7-9475-3d5ea823902a",
   "metadata": {},
   "source": [
    "----------\n",
    "\n",
    "**__Table of contents__**\n",
    "\n",
    "\n",
    "\n",
    "**[1 Build](#Build)** \n",
    "\n",
    "**[2 Make and Makefile](#Makefile)**\n",
    "\n",
    " * [2.1 First Makefile](#FirstMakefile)\n",
    "\n",
    " * [2.2 Makefile with header dependencies](#HeaderDepend)\n",
    "\n",
    " * [2.3 Good practices in Makefile for C programming](#GP4C)\n",
    "\n",
    " * [2.4 Good practices in Makefile : use common variables](#GPcommon)\n",
    "\n",
    " * [2.5 Good practices in Makefile : use make variables](#GPmake)\n",
    "   \n",
    " * [2.6 Good practices in Makefile : use patterns](#GPpattern)\n",
    "\n",
    " * [2.7 Good practices in Makefile : use phony rules all and clean](#GPallclean)\n",
    "\n",
    "\n",
    "**[3 The arguments of the main function](#main)** \n",
    "\n",
    "\n",
    " * [3.1 The full prototype of the main function](#fullproto)\n",
    "\n",
    " * [3.2 Parsing arguments with getopt](#getopt)\n",
    "\n",
    "**[4  Summary of knowledge and skills after this tutorial and related lessons](#summary)**\n",
    "\n",
    "**[5  Perspectives](#perspectives)**\n",
    "\n",
    "---------------"
   ]
  },
  {
   "cell_type": "markdown",
   "id": "7c529086-de64-43b1-a052-81f7b2ffa1f3",
   "metadata": {},
   "source": [
    "Open a terminal in the same directory than this notebook (File->New->Terminal). Let note that any cell beginning with :"
   ]
  },
  {
   "cell_type": "markdown",
   "id": "cd9959d0-8b79-4ce8-b506-917599d44147",
   "metadata": {},
   "source": [
    "``` $ ```"
   ]
  },
  {
   "cell_type": "markdown",
   "id": "bdfb4b9f-81c4-4115-9ed7-1ce38be391cb",
   "metadata": {},
   "source": [
    "means that the text following the  `$` character is a command to be run in this terminal you have just opened."
   ]
  },
  {
   "cell_type": "markdown",
   "id": "fc456185-ed28-4169-8ccc-667a07a708d9",
   "metadata": {},
   "source": [
    "For example, run in this terminal to check the content of your current directory:"
   ]
  },
  {
   "cell_type": "markdown",
   "id": "ddd07a28-4af2-4005-9741-c017d38c0ee5",
   "metadata": {},
   "source": [
    "``` $ ls ```"
   ]
  },
  {
   "cell_type": "markdown",
   "id": "667b18fa-c750-47dc-83f5-0404fd38823e",
   "metadata": {},
   "source": [
    "Check you have :\n",
    "* tuto-make-main-getopt.ipynb\n",
    "* README-Jupyter-Markdown.md\n",
    "* README-Jupyter-Markdown.pdf\n",
    "* images\n",
    "* prod-cons\n",
    "* main-arg"
   ]
  },
  {
   "cell_type": "markdown",
   "id": "c78dcaac-fd7d-4dd5-a072-e9924ecb5c18",
   "metadata": {},
   "source": [
    "## 1 Build with GCC <a name=\"Build\"></a>\n",
    "\n",
    "The GNU Compiler Collection provides different tools to build projects in C, C++,... For the C language, it provides the `gcc` command that compiles code and builds the program. It is widely used on Unix-like systems."
   ]
  },
  {
   "cell_type": "markdown",
   "id": "ea374651-6f11-4614-a16a-fa66f871745a",
   "metadata": {},
   "source": [
    "### 1 Example"
   ]
  },
  {
   "cell_type": "markdown",
   "id": "02eb2da0-be1c-4120-a7ad-c9855e15342d",
   "metadata": {},
   "source": [
    "Let's go into `prod-cons` directory :"
   ]
  },
  {
   "cell_type": "markdown",
   "id": "45f473df-575c-4028-bf99-7d8122c5d454",
   "metadata": {},
   "source": [
    "``` $ cd prod-cons ``` "
   ]
  },
  {
   "cell_type": "markdown",
   "id": "59f1d2fc-d76d-4c39-aa02-741193855718",
   "metadata": {},
   "source": [
    "There is C code source with a main function.\n",
    "To get an executable file, we need two steps :\n",
    "1. **compilation** (C text -> assembly) \n",
    "2. **linking** (put together all assembly files)\n",
    "\n",
    "Only one has a main function : `main.c`. \n",
    "The project can be synthetized in this simple graph  :\n",
    "\n",
    "\n",
    "---------------\n",
    "![Build a C program with several C source files](images/prod_cons_resized.png \"Build prod_cons\") \n",
    "\n",
    "[Figure 1 : Build graph for `prod_cons`]<a name=\"build_graph\"></a>\n",
    "\n",
    "---------------\n"
   ]
  },
  {
   "cell_type": "markdown",
   "id": "5d22f26d-2f2d-49d9-ad79-1e16dd49c078",
   "metadata": {},
   "source": [
    "So the **compilation step** is :"
   ]
  },
  {
   "cell_type": "markdown",
   "id": "3cd87402-7fa1-4f08-827e-b64b78d83271",
   "metadata": {},
   "source": [
    "``` $ gcc -c producer.c ```  "
   ]
  },
  {
   "cell_type": "markdown",
   "id": "8d87155d-968f-4fce-ae74-cb90bb6286c5",
   "metadata": {},
   "source": [
    "``` $ gcc -c consumer.c ```  "
   ]
  },
  {
   "cell_type": "markdown",
   "id": "af47ba89-0583-4720-aa1a-469558486144",
   "metadata": {},
   "source": [
    "``` $ gcc -c main.c ```  "
   ]
  },
  {
   "cell_type": "markdown",
   "id": "85c7ec36-8624-46bc-92d4-78914a04ee15",
   "metadata": {},
   "source": [
    "``` $ gcc -c init_conso_prod.c ```  "
   ]
  },
  {
   "cell_type": "markdown",
   "id": "cb0aec2a-a8d1-4ece-b6fc-32b2bcc9feb9",
   "metadata": {},
   "source": [
    "Remember that the order of these compilation commands is not important since a source file is compiled independantly from the other ones."
   ]
  },
  {
   "cell_type": "markdown",
   "id": "7338d71b-f350-4142-9122-9c1c238695da",
   "metadata": {},
   "source": [
    "Now the **link step** to get the binary program ```prod_cons``` :"
   ]
  },
  {
   "cell_type": "markdown",
   "id": "5e50b16c-9433-4720-bb9e-39683d01bbc6",
   "metadata": {},
   "source": [
    "``` $ gcc init_conso_prod.o main.o consumer.o producer.o -o prod_cons```  "
   ]
  },
  {
   "cell_type": "markdown",
   "id": "d5b2ebb0-8cf6-47cb-8b80-5175d9e840de",
   "metadata": {},
   "source": [
    "Run the program :"
   ]
  },
  {
   "cell_type": "markdown",
   "id": "b241d098-eb17-4ac3-a566-81bd324227c6",
   "metadata": {},
   "source": [
    "``` $ ./prod_cons```  "
   ]
  },
  {
   "cell_type": "markdown",
   "id": "1675f0d0-9bd5-4409-a0ab-fabb4428d354",
   "metadata": {},
   "source": [
    "## 2 Make and Makefile <a name=\"Makefile\"></a>"
   ]
  },
  {
   "cell_type": "markdown",
   "id": "aae3e249-f03e-412b-b4dc-1c7524907b71",
   "metadata": {},
   "source": [
    "#### 2.1 First Makefile <a name=\"FirstMakefile\"></a>"
   ]
  },
  {
   "cell_type": "markdown",
   "id": "251f316d-71f8-4f97-8944-b5aeaaa76b34",
   "metadata": {},
   "source": [
    "**make** is a program that manages the build process of **targets**. A target can be :\n",
    "* an object file (file.o)\n",
    "* an executable file (as ```prod_cons``` in the previous example)\n",
    "* a library (this case will be studied in ```S6 - operating systems```)\n",
    "* ans so many cases you will discover latter\n",
    "\n",
    "Therefore, **make** is very useful to manage a code project where the objective is to build a program. \n",
    "For example, we have 5 targets in Figure [build_graph](#build_graph) : the 4 objects files .o and the binary program `prod_cons`.\n",
    "\n",
    "To build each target, we known what we need : \n",
    "* for `producer.o` we need `producer.c`\n",
    "* for `consumer.o` we need `consumer.c`\n",
    "* for `main.o` we need `main.c`\n",
    "* for `init_conso_prod.o` we need `init_conso_prod.c`\n",
    "* for `prod_cons` we need `producer.o`, `producer.o`, `consumer.o`, `main.o` and `init_conso_prod.o`\n",
    "\n",
    "These \"needs\" all called **dependencies** : `producer.o` depends from `producer.c` and so on. There are illustrated by the arrows in  Figure [build_graph](#build_graph) \n",
    "\n",
    "Once we know what we need as data, we need the command that builds the target. For example, to build `producer.o` , we need the command `gcc -c producer.c`\n",
    "\n",
    "So, for a target, we need to know the dependencies (inputs)  and the command using the dependencies to build it. The target name + dependencies + command is called a **rule** and is always in this form:\n",
    "\n",
    "``` \n",
    "                targetname: dependency1 dependency2\n",
    "                    command\n",
    "```\n",
    "\n",
    "Dependencies or command can be empty.\n",
    "\n",
    "Let note that the line with the command **starts ALWAYS with a tabulation** and only a tabulation \n",
    "\n",
    "All the rules are written in a file which is called **Makefile** by default.\n",
    "\n",
    "For example, the Makefile corresponding to the Figure [build_graph](#build_graph) is :\n",
    "\n",
    "```\n",
    "        producer.o: producer.c\n",
    "            gcc -c producer.c\n",
    "        \n",
    "        consumer.o: consumer.c\n",
    "            gcc -c consumer.c\n",
    "        \n",
    "        main.o: main.c\n",
    "            gcc -c main.c\n",
    "        \n",
    "        init_prod_conso.o: init_prod_conso.c\n",
    "            gcc -c init_prod_conso.c\n",
    "        \n",
    "        \n",
    "        prod_conso: producer.o consumer.o main.o init_prod_conso.o\n",
    "            gcc producer.o consumer.o main.o init_prod_conso.o -o prod_conso\n",
    "\n",
    "```\n",
    "\n",
    "It is provided in the `prod-cons` directory.\n",
    "\n",
    "To test it :"
   ]
  },
  {
   "cell_type": "markdown",
   "id": "711b1766-91fe-43f0-a08d-4c1dc42617aa",
   "metadata": {},
   "source": [
    "```$ rm *.o prod_cons```\n",
    "\n",
    "```$ make prod_cons```\n",
    "\n",
    "```$ ./prod_cons ```"
   ]
  },
  {
   "cell_type": "markdown",
   "id": "cff9f585-ec1a-40c3-b4e1-57d46feeb194",
   "metadata": {},
   "source": [
    "In a single make call, the binary is produced. It has detected that it requires  `producer.o`, `producer.o`, `consumer.o`, `main.o` and `init_conso_prod.o`. Since they were not present, **make** tried to find a rule to build them. Since a rule for each of them is defined, it calls them successively.\n",
    "\n",
    "The dependencies are used to know if it is necessary to run the command associated to the target. If at least one dependency is newest that the target, the command is run.\n",
    "Retry :"
   ]
  },
  {
   "cell_type": "markdown",
   "id": "87688245-62b3-4b52-8494-b3c6259b0caa",
   "metadata": {},
   "source": [
    "```$ make prod_cons```"
   ]
  },
  {
   "cell_type": "markdown",
   "id": "f855b2db-ece3-4df3-b5fd-c1f6df3c832f",
   "metadata": {},
   "source": [
    "**make** should have told you there is nothing to do : `prod_cons`is built and none of its dependencies content have been modified since it has been built.\n",
    "\n",
    "Now modify `init_prod_cons.c` to add a test in the function `isFull` to return -1 if the pointer p is NULL. Save and retry :"
   ]
  },
  {
   "cell_type": "markdown",
   "id": "78950f0f-79d5-49c8-b90e-6c65f9dddd71",
   "metadata": {},
   "source": [
    "```$ make prod_cons```"
   ]
  },
  {
   "cell_type": "markdown",
   "id": "cfe3a8b7-d144-49d2-b9dc-c43c91a8d64e",
   "metadata": {},
   "source": [
    "**Q1**: How many object(s) file(s) have been rebuilt? Why? How many target(s) have been rebuilt? Save this Makefile as `Makefile.Q1`"
   ]
  },
  {
   "cell_type": "markdown",
   "id": "c6b6defb-d342-428d-b1f5-0d44af8895ca",
   "metadata": {},
   "source": [
    "**R1**: *Write your answer here*"
   ]
  },
  {
   "cell_type": "markdown",
   "id": "25db7cff-3d79-4204-9fb1-a09fc6ed4856",
   "metadata": {},
   "source": [
    "You have studied your first Makefile. But it is not correct yet for at least 2 reasons :\n",
    "* not all dependencies are described -> the program is not rebuilt in some cases it should have been rebuilt\n",
    "* good practices are not applied -> Makefile and C program prone to errors, hard to maintain"
   ]
  },
  {
   "cell_type": "markdown",
   "id": "26577acb-d421-447a-9a89-c217235ccd08",
   "metadata": {},
   "source": [
    "We will fix these issues in the following exercises"
   ]
  },
  {
   "cell_type": "markdown",
   "id": "c39ddd06-ffae-4c02-9001-3f9a61ebdf62",
   "metadata": {},
   "source": [
    "### 2.1 Second Makefile : add header dependencies <a name=\"HeaderDepend\"></a>"
   ]
  },
  {
   "cell_type": "markdown",
   "id": "147701db-698d-4a61-a2bc-7d692c5dc7d2",
   "metadata": {},
   "source": [
    "#### 2.1.1 Second Makefile : add header dependencies : first version"
   ]
  },
  {
   "cell_type": "markdown",
   "id": "63c4b6c2-edbb-4f84-8d72-992b7c545e5b",
   "metadata": {},
   "source": [
    "Change the value of NBPRODUCT in `globals_prod_conso.h` and call make to rebuild the program:"
   ]
  },
  {
   "cell_type": "markdown",
   "id": "26b91d79-bbc2-4098-b22e-87c15b907189",
   "metadata": {},
   "source": [
    "```$ make prod_cons```"
   ]
  },
  {
   "cell_type": "markdown",
   "id": "12e94c70-48a1-4a6c-9bf2-d26ac6d860dd",
   "metadata": {},
   "source": [
    "Nothing is rebuilt :'( We need to explain that object files depends from the header files included in C source files. In fact, the complete dependency graph of this program is :\n",
    "\n",
    "---------------\n",
    "\n",
    "![Complete dependency graph](images/prod_cons_headers.png \"Complete dependency graph prod_cons\") \n",
    "\n",
    "[Figure 2 : Complete dependency graph  `prod_cons`]<a name=\"complete_build_graph\"></a>\n",
    "\n",
    "---------------"
   ]
  },
  {
   "cell_type": "markdown",
   "id": "8ff8b9d7-8cd9-4997-befb-4c1f1c9430c1",
   "metadata": {},
   "source": [
    "**Q2** : Change your Makefile to add the missing header dependencies. **Always add what is strictly necessary (during the exam, you will be penalized if not so)!**  There are two ways to check it is ok:\n",
    "1. when trying to rebuild `prod_cons`, a change in the NBPRODUCT value entails rebuilding every object files and the binary program\n",
    "2. Ask a teacher. Mandatory for your first Makefile however always proceed to 1. before\n",
    "\n",
    " Save this Makefile as `Makefile.Q2`"
   ]
  },
  {
   "cell_type": "markdown",
   "id": "c9321c71-770e-4c64-8f1f-73cba2311db0",
   "metadata": {},
   "source": [
    "#### 2.1.2 Second Makefile : add header dependencies using -MMD option"
   ]
  },
  {
   "cell_type": "markdown",
   "id": "d90d9c02-f78c-4c4e-a4b7-bb210acba0e1",
   "metadata": {},
   "source": [
    "When using **gcc** to build a program, one can use the compiler option **-MMD** that computes automatically all dependencies for object files. Try :"
   ]
  },
  {
   "cell_type": "markdown",
   "id": "2e2e6316-4bd5-4830-a3e4-ce2509fb2050",
   "metadata": {},
   "source": [
    "```$ gcc -c -MMD producer.c```"
   ]
  },
  {
   "cell_type": "markdown",
   "id": "1d4930a1-08e3-4c97-b223-1249ba72637b",
   "metadata": {},
   "source": [
    "A file named `producer.d` has been created and you can check it contains the dependencies for `producer.o`\n",
    "\n",
    "To include this kind of file, you have to add in your Makefile \n",
    "\n",
    "```\n",
    "        include $(wildcard *.d)\n",
    "```\n"
   ]
  },
  {
   "cell_type": "markdown",
   "id": "775c1fd8-92f8-443f-b878-4ee967adf10a",
   "metadata": {},
   "source": [
    "**Q3** : Change your Makefile to replace all the header dependencies by the use of **-MMD** compiler option \n",
    "1. when trying to rebuild `prod_cons`, a change in the NB;PRODUCT value entails rebuilding every object files and the binary program\n",
    "2. Ask a teacher. Mandatory for your first Makfile however always proceed to 1. before\n",
    "\n",
    "This way to proceed with header dependencies is better when using **gcc**\n",
    " Save this Makefile as `Makefile.Q3`"
   ]
  },
  {
   "cell_type": "markdown",
   "id": "cfce09c0-63b4-4b20-8373-bf3f8e6cbdab",
   "metadata": {},
   "source": [
    "Now you have a Makefile that is complete but that does not respect the good practises in Makefile writing and in C programming. We will fix this. **Let note that good practises are taken into account when evaluating a Makefile**\n"
   ]
  },
  {
   "cell_type": "markdown",
   "id": "80393ce2-b66c-46e8-bec5-02cab03f0242",
   "metadata": {},
   "source": [
    "### 2.3 Good practices in Makefile for C programming  <a name=\"GP4C\"></a>"
   ]
  },
  {
   "cell_type": "markdown",
   "id": "1554aa67-f9f5-43ef-a3c8-0d2fe724bcf0",
   "metadata": {},
   "source": [
    "When compiling and linking to build a program, it is good to have the warnings the compiler and linker send. In most of the cases, it points to an error :-)"
   ]
  },
  {
   "cell_type": "markdown",
   "id": "43e2f680-4d5e-447e-81e3-143eca7116fb",
   "metadata": {},
   "source": [
    "**Q4** : Modify your Makefile to add **-Wall** and **-Wextra** compiler options. Delete all object files and `prod_cons` program : when rebuilding the program, a C compiler warning should occur.\n",
    "\n",
    "Let note that if you want to debug, you should also add **-g** compiler option.\n",
    "\n",
    " Save this Makefile as `Makefile.Q4`"
   ]
  },
  {
   "cell_type": "markdown",
   "id": "224ebe4a-9459-4f7d-a830-4022415d228f",
   "metadata": {},
   "source": [
    "### 2.4 Good practices in Makefile : use common variables <a name=\"GPcommon\"></a>"
   ]
  },
  {
   "cell_type": "markdown",
   "id": "6a9770f6-3d3b-4dce-950e-20d5fea59aba",
   "metadata": {},
   "source": [
    "To have a Makefile that is easy to maintain and to deploy on different configurations (change OS, change compiler,...), some variables are defined at the beginning of the Makefile:\n",
    "* CC stores the command for the compilation step (here : gcc -c)\n",
    "* CFLAGS stores the compiler options (here : -Wall -Wextra -MMD)\n",
    "* LD stores the command for the linking step (here : gcc)\n",
    "* LDFLAGS stores the link options (none here) : for example, path to a library\n",
    "* LDLIBS stores the third party library names (none here), for example if linking with the math library : -lm\n",
    "\n",
    "As a consequence, your Makefile should begin with :\n",
    "\n",
    "\n",
    "```\n",
    "    CC=gcc -c\n",
    "    CFLAGS= -Wall -Wextra -MMD\n",
    "    LD=gcc\n",
    "    LDFLAGS=\n",
    "    LDLIBS=\n",
    "```"
   ]
  },
  {
   "cell_type": "markdown",
   "id": "9a1fb3b9-36c6-4272-9e7c-ae6c93a8c67b",
   "metadata": {},
   "source": [
    "**Q5** Add this text to your Makefile and modify the rules to use them. For example, producer.o rule becomes:\n",
    "\n",
    "```\n",
    "    producer.o: producer.c\n",
    "        $(CC) $(CFLAGS) producer.c\n",
    "\n",
    "```\n",
    "\n",
    " Save this Makefile as `Makefile.Q5`"
   ]
  },
  {
   "cell_type": "markdown",
   "id": "1fd13d7a-24ab-4c99-b8a4-1a614e4ec85a",
   "metadata": {},
   "source": [
    "### 2.5 Good practices in Makefile : use make variables <a name=\"GPmake\"></a>"
   ]
  },
  {
   "cell_type": "markdown",
   "id": "2d3d92de-8b2d-4a3e-b90f-50dde0c9f963",
   "metadata": {},
   "source": [
    "These variables are specific to Makefile writing and are used to make Makefile more generic (and therefore more copy-pasteable):\n",
    "\n",
    "| Variable | Meaning|\n",
    "|-----|-----|\n",
    "| `$@` | The target name |\n",
    "| `$<` | The first dependency name|\n",
    "| `$ˆ` | The dependencies list|\n",
    "| `$?` | The list of dependencies that have been more recently modified than the target|\n",
    "| `$*` |The target name without its suffix|\n",
    "\n",
    "\n",
    "\n",
    "\n",
    "\n",
    "\n",
    "**Q6** Add this text to your Makefile and modify the rules to use them. For example, producer.o rule becomes:\n",
    "\n",
    "```\n",
    "    producer.o: producer.c\n",
    "        $(CC) $(CFLAGS) $<\n",
    "\n",
    "```\n",
    "\n",
    " Save this Makefile as `Makefile.Q6`"
   ]
  },
  {
   "cell_type": "markdown",
   "id": "8b6ecd7a-bc8a-494e-b2fc-17f8ce3ed509",
   "metadata": {},
   "source": [
    "### 2.6 Good practices in Makefile : use pattern <a name=\"GPpattern\"></a>"
   ]
  },
  {
   "cell_type": "markdown",
   "id": "0f41752c-3d71-449d-bcff-b14aa2ef17ba",
   "metadata": {},
   "source": [
    "Now you should see that all rules for object files look similar.\n",
    "\n",
    "**Q7** Replace all rules for object files by this one that uses a pattern. It says that every target finishing with.o has a dependency with the same name with the suffix .c:\n",
    "\n",
    "```\n",
    "%.o : %.c\n",
    "    $(CC) $(CFLAGS) $< -o $@\n",
    "```\n",
    "\n",
    " Save this Makefile as `Makefile.Q7`"
   ]
  },
  {
   "cell_type": "markdown",
   "id": "f986fdeb-4273-497d-95f7-5ee83184c8fd",
   "metadata": {},
   "source": [
    "### 2.7 Good practices in Makefile : use phony rules all and clean <a name=\"GPallclean\"></a>"
   ]
  },
  {
   "cell_type": "markdown",
   "id": "bb290a09-4ffe-4680-9dde-f2a3e3a59ec4",
   "metadata": {},
   "source": [
    "In fact, when you type "
   ]
  },
  {
   "cell_type": "markdown",
   "id": "b85d84f4-eddb-4f74-aebb-078666252ef3",
   "metadata": {},
   "source": [
    "```$ make```"
   ]
  },
  {
   "cell_type": "markdown",
   "id": "dacebbef-f04f-4361-970e-c7b1fd94d9e8",
   "metadata": {},
   "source": [
    "**make** try to build the first rule found in the Makefile. As a consequence, the first rule of a Makefile is ALWAYS a rule named `all` whose dependencies are the list of binary programs and libraries handled by the Makefile. Here we have only one program so the rule is:\n",
    "\n",
    "```\n",
    "    all: prod_cons\n",
    "```\n",
    "\n",
    "It is called a phony rule because  no file  is directly produced by this rule.\n",
    "\n",
    "**Q8** Add this rule at the begining of your Makefile. Change the  NBPRODUCT value and build your program with only this command:"
   ]
  },
  {
   "cell_type": "markdown",
   "id": "a94bfd86-3dfd-4ccf-9f9a-296cddd6fb93",
   "metadata": {},
   "source": [
    "```$ make```"
   ]
  },
  {
   "cell_type": "markdown",
   "id": "df3b00a6-bb6a-477a-8bcc-a7982bca34db",
   "metadata": {},
   "source": [
    "**Q9** Add a `clean` rule that deletes all files created by the Makefile: dependency files .d, object files .o and the program(s). \n",
    "\n",
    "\n",
    "![Clean your room](images/clean.png \"clean rule\") \n",
    "\n",
    "[Figure 3 : clean rule]<a name=\"clean\"></a>\n",
    "\n",
    "\n",
    "The command to delete files is **rm** so it should be like this:\n",
    "```\n",
    "    clean :\n",
    "            rm *.d *.o\n",
    "            rm prod_cons\n",
    "```    \n",
    "\n",
    "Test it :"
   ]
  },
  {
   "cell_type": "markdown",
   "id": "dc62fffe-a59e-48c3-8fe3-c4020f9d073f",
   "metadata": {},
   "source": [
    "```$ make clean```\n",
    "\n",
    "```$ make```"
   ]
  },
  {
   "cell_type": "markdown",
   "id": "abda0daf-5149-42db-ae9f-aa5455f67459",
   "metadata": {},
   "source": [
    " Save this Makefile as `Makefile.Q8`. Your Makefile should perfect now :-)"
   ]
  },
  {
   "cell_type": "markdown",
   "id": "9417429c-f70e-4bb2-a594-ac864d14883a",
   "metadata": {},
   "source": [
    "## 3. The arguments of the main function  <a name=\"main\"></a>"
   ]
  },
  {
   "cell_type": "markdown",
   "id": "a4df2e2d-b2e5-498b-8d32-92a9a19b4dd8",
   "metadata": {},
   "source": [
    "When typing"
   ]
  },
  {
   "cell_type": "markdown",
   "id": "a077c531-e569-4719-a305-861e14653687",
   "metadata": {},
   "source": [
    "```$ gcc -c myecho.c -o myecho.o```"
   ]
  },
  {
   "cell_type": "markdown",
   "id": "f8bedf5f-290a-4246-b689-057db5f4ff0c",
   "metadata": {},
   "source": [
    "we say that we run `gcc` with **arguments** : ```-c myecho.c -o myecho.o```"
   ]
  },
  {
   "cell_type": "markdown",
   "id": "cbee8639-96b3-4f87-8733-476d7950cfe9",
   "metadata": {},
   "source": [
    "### 3.1 Full prototype of the main function  <a name=\"fullproto\"></a>\n",
    "\n",
    "The full prototype is of the main function is:\n",
    "\n",
    "```int main ( int argc , char * argv [] , char ** arge ) ;```\n",
    "\n",
    "with:\n",
    "* `argc` : number of arguments of the program, included the program name : argv[0] is the name of the program. As a consequence argc >=1\n",
    "* `argv` : array of the arguments. An argument is stored as a string (char*) and there are delimited by at least a space\n",
    "* arge : array of the inherited environment variables. A NULL pointer ends the list. It will be studied in `S6-operating systems`\n",
    "\n",
    "\n"
   ]
  },
  {
   "cell_type": "markdown",
   "id": "d96eaa9c-007a-4d64-88d8-8dcb8516c116",
   "metadata": {},
   "source": [
    "#### Example : myecho"
   ]
  },
  {
   "cell_type": "markdown",
   "id": "da03d3fa-eee3-4721-b3c0-74a1f4cee9e4",
   "metadata": {},
   "source": [
    "Go into `main-arg` directory and study the code of `myecho.c` that displays the arguments of the program. Compile the program `myecho`  from `myecho.c` and test it:"
   ]
  },
  {
   "cell_type": "markdown",
   "id": "46062487-c365-4c3e-9a29-4a915c12e2ef",
   "metadata": {},
   "source": [
    "```$ gcc -c myecho.c```\n",
    "\n",
    "```$ gcc myecho.o -o myecho```\n",
    "\n",
    "```$ ./myecho```\n",
    "\n",
    "```$ ./myecho hi there! I am here !```"
   ]
  },
  {
   "cell_type": "markdown",
   "id": "a2b2d386-2e13-4ca1-8c3e-04c31f985945",
   "metadata": {},
   "source": [
    "#### Exercise : mysum"
   ]
  },
  {
   "cell_type": "markdown",
   "id": "b9a83a98-943f-4b19-9b09-a8ef6fde4dbd",
   "metadata": {},
   "source": [
    "**Q10**: Write a program called `mysum` that sums all the integers that are given as arguments to the program. As arguments are given a a string you will need to transform a string as an integer. atoi is not recommanded by ANSSI (cf [cybersecurity rules for C](https://cyber.gouv.fr/publications/regles-de-programmation-pour-le-developpement-securise-de-logiciels-en-langage-c) ) so use strtol as in:\n",
    "\n",
    "```\n",
    "#include <stdlib.h>\n",
    "\n",
    "...\n",
    "\n",
    "    char * endstring;\n",
    "    int nb = strtotl(argv[i],&endstring,10);\n",
    "```\n",
    "\n",
    "Here are some expected results:\n"
   ]
  },
  {
   "cell_type": "markdown",
   "id": "f127b0ea-f5bb-4982-b5ff-e50f1c5f57ae",
   "metadata": {},
   "source": [
    "```$ ./mysum```\n",
    "\n",
    "```Sum = 0 ```\n",
    "\n",
    "```$ ./mysum 2 3 8```\n",
    "\n",
    "```Sum = 13 ```\n",
    "\n",
    "```$ ./mysum 30 3 70 1000```\n",
    "\n",
    "```Sum = 1003 ```"
   ]
  },
  {
   "cell_type": "markdown",
   "id": "83fe971c-3271-4264-b8b3-7d7ec616bb4e",
   "metadata": {},
   "source": [
    "### 3.2 Parsing the main arguments with getopt  <a name=\"getopt\"></a>"
   ]
  },
  {
   "cell_type": "markdown",
   "id": "cd9b132a-214e-4cc9-bb58-6f4b4519acef",
   "metadata": {},
   "source": [
    "When typing"
   ]
  },
  {
   "cell_type": "markdown",
   "id": "d170b18b-ac46-4d02-b81d-9698fbc76fee",
   "metadata": {},
   "source": [
    "```$ gcc -c myecho.c -o myecho.o```"
   ]
  },
  {
   "cell_type": "markdown",
   "id": "271eb0ba-29e3-45ec-9931-22354c3ac31a",
   "metadata": {},
   "source": [
    "we say that we run `gcc` with arguments : ```-c myecho.c -o myecho.o``` where `-c` and `-o myecho.o` are special arguments: they are **options**, *ie* arguments that defines the behavior of the command. `-c` is a simple option and says to  `gcc` to act as a compiler. `-o` is an option with a value: `myecho.o` to change the default value of the output filename.\n",
    "\n",
    "**Most of the times the order of the options is not significant**. It means that if we want to parse the arguments, there are so many combinations of options that it is not relevant to code it oneself. The function `getopt` is provided in the standard C library to do it. It is a good practice (aka mandatory :p ) to use it as soon as a function has at least one option."
   ]
  },
  {
   "cell_type": "markdown",
   "id": "413d0fd4-557f-4c0d-a97c-4e4970182149",
   "metadata": {},
   "source": [
    "#### Example "
   ]
  },
  {
   "cell_type": "markdown",
   "id": "7d4d81ac-f2fa-4c52-8e6e-b4aca05bcb5d",
   "metadata": {},
   "source": [
    "Build `test-getopt` from `from test-getopt.c` and test it:"
   ]
  },
  {
   "cell_type": "markdown",
   "id": "06b1d5e8-43d1-42a2-848c-3cb8b2d98941",
   "metadata": {},
   "source": [
    "```$ gcc -c test-getopt.c -o test-getopt.o ```\n",
    "\n",
    "```$ gcc  test-getopt.o -o test-getopt ```\n",
    "\n",
    "```$ ./test-getopt hi there !```\n",
    "\n",
    "```$ ./test-getopt hi there ! -a```\n",
    "\n",
    "```$ ./test-getopt  -a hi there ! -b```\n",
    "\n",
    "```$ ./test-getopt  -a hi -c here there ! -b```"
   ]
  },
  {
   "cell_type": "markdown",
   "id": "0f0f83ac-5102-49b1-91b0-a0d067c9edfa",
   "metadata": {},
   "source": [
    "#### Explanation"
   ]
  },
  {
   "cell_type": "markdown",
   "id": "51a4eca6-d107-443a-bb0a-f1b7af1a4a9b",
   "metadata": {},
   "source": [
    "Stydu the code and let note that :\n",
    "* As usually, `getopt` is called in a **loop**  (while) as shown in the example. When `getopt` returns -1, indicating no more options are present, the loop terminates.\n",
    "    * In the loop, a switch statement is used to dispatch on the return value from `getopt`. In typical use, each case just sets a variable that is used later in the program.\n",
    "    * As `getopt` sorts the array `argv` in order to put first the option parameters then non-option parameters, you should **never** launch any data processing in this loop.\n",
    "      You should have only code related to the option detection in the switch statements.\n",
    "      \n",
    "\n",
    "* This process is based on some variables associated to the use of `getopt` :\n",
    "    * char * optarg : set by `getopt` to point at the value the option value, for those options that\n",
    "    accept values.\n",
    "    * int optind : once `getopt` has found all of the option arguments, you can use this variable\n",
    "    to determine where the remaining non-option arguments begin.\n",
    "    * int opterr : If the value of this variable is nonzero, then `getopt` prints an error message\n",
    "    to the standard error stream if it encounters an unknown option character or an option\n",
    "    with a missing required argument. This is the default behavior. If you set this variable to\n",
    "    zero, `getopt` does not print any messages, but it still returns the character ? to indicate\n",
    "    an error.\n",
    "    * int optopt : when `getopt` encounters an unknown option character or an option with a\n",
    "    missing required argument, it stores that option character in this variable. You can use\n",
    "    this for providing your own diagnostic messages.\n",
    "\n",
    "\n",
    "In the provided example, the loop calling `getopt` is here followed by a second loop (for) to process the **remaining non-option arguments**."
   ]
  },
  {
   "cell_type": "markdown",
   "id": "29b0d203-112d-4a2f-80ac-9286564c63cd",
   "metadata": {},
   "source": [
    "#### Exercise\n",
    "\n",
    "Change the code of `test-getopt` to display the ` printf (\"aflag = %d, bflag = %d, cvalue = %s\\n\", aflag, bflag, cvalue);` only if the option -v (for verbose) is activated"
   ]
  },
  {
   "cell_type": "markdown",
   "id": "af69cc00-ac7e-48e6-b215-45b765fd9c34",
   "metadata": {},
   "source": [
    "#### Exercise"
   ]
  },
  {
   "cell_type": "markdown",
   "id": "a8479162-fb05-44c8-aa5f-d118cea2600d",
   "metadata": {},
   "source": [
    "Save your `mysum.c` as `myop.c`.  Modify `myop.c using `getopt` so :\n",
    "* by default, it makes the sum of all arguments as previsouly \n",
    "* if option `-p` is used, it displays the product of all arguments"
   ]
  },
  {
   "cell_type": "markdown",
   "id": "67211921-628f-4a2b-b8f0-e58cd2fb207c",
   "metadata": {},
   "source": [
    "## 4. Summary of knowledge and skills after this tutorial and related lessons <a name=\"summary\"></a>"
   ]
  },
  {
   "cell_type": "markdown",
   "id": "0ec8e401-8769-4868-920b-9b7d9d01fade",
   "metadata": {},
   "source": [
    "### 4.1 Build process in C programming\n",
    "\n",
    "* I know how to build an executable file from C source code using **gcc** command in a terminal\n",
    "* I know that building a program from C code requires two main steps, **compilation** and **linking** and I understand what a compiler does and what a linker does."
   ]
  },
  {
   "cell_type": "markdown",
   "id": "2e8ca60f-0b3f-41c0-a0b8-b7ba128f51ad",
   "metadata": {},
   "source": [
    "### 4.2 Makefile\n",
    "\n",
    "* I know what is a **rule**, a **target** and a **dependency** in a **Makefile**\n",
    "* I know how to find the strictly necessary dependencies of a target and add them in a Makefile\n",
    "* I know how to use variables to fulfill good practices in C programming and Makefile writing"
   ]
  },
  {
   "cell_type": "markdown",
   "id": "696db89c-b1d4-466a-9247-21ca660bf5f9",
   "metadata": {},
   "source": [
    "### 4.2 Main arguments\n",
    "\n",
    "* I know what is an **argument** to a program\n",
    "* I know what the full prototype of the main function, what is **argc** and **argv** and how to use them to get the arguments of a program\n",
    "* I know how to use **getopt** to parse the arguments of a program and detect automtically the **options**."
   ]
  },
  {
   "cell_type": "markdown",
   "id": "47712ae9-9832-49f7-8f2d-26f463578002",
   "metadata": {},
   "source": [
    "## 5. Perspectives <a name=\"perspectives\"></a>\n",
    "\n",
    "**make** is old. It is still often used to install simple third party librairies, for example for github. However its successors **cmake** or **autotools** are easier to use to describe a large project that can deploy on several systems. They rely on the same principles: identify targets and dependencies, apply the relevant commands when necessary. They will generate the Makefile adapted to your system."
   ]
  },
  {
   "cell_type": "markdown",
   "id": "2d2f199f-b18a-46ea-8a2a-3770d806a54e",
   "metadata": {},
   "source": [
    "[Go back to the beginning](#top)"
   ]
  }
 ],
 "metadata": {
  "kernelspec": {
   "display_name": "Python 3 (ipykernel)",
   "language": "python",
   "name": "python3"
  },
  "language_info": {
   "codemirror_mode": {
    "name": "ipython",
    "version": 3
   },
   "file_extension": ".py",
   "mimetype": "text/x-python",
   "name": "python",
   "nbconvert_exporter": "python",
   "pygments_lexer": "ipython3",
   "version": "3.12.2"
  }
 },
 "nbformat": 4,
 "nbformat_minor": 5
}
